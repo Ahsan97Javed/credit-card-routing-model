{
 "cells": [
  {
   "cell_type": "code",
   "execution_count": 51,
   "metadata": {},
   "outputs": [],
   "source": [
    "# Libraries\n",
    "import os\n",
    "import pandas as pd\n",
    "import matplotlib.pyplot as plt\n",
    "from sklearn import set_config\n",
    "from sklearn.model_selection import train_test_split, cross_val_score, RandomizedSearchCV\n",
    "from sklearn.preprocessing import LabelEncoder\n",
    "from sklearn.linear_model import LogisticRegression\n",
    "from sklearn.ensemble import RandomForestClassifier\n",
    "from sklearn.metrics import accuracy_score, confusion_matrix, classification_report\n",
    "from sklearn.tree import DecisionTreeClassifier\n",
    "from sklearn.ensemble import StackingClassifier\n",
    "from sklearn.model_selection import GridSearchCV"
   ]
  },
  {
   "cell_type": "code",
   "execution_count": 3,
   "metadata": {},
   "outputs": [
    {
     "name": "stdout",
     "output_type": "stream",
     "text": [
      "First 5 rows of the dataset:\n",
      "   Unnamed: 0                tmsp  country  ...         PSP  3D_secured    card\n",
      "0           0 2019-01-01 00:01:11  Germany  ...     UK_Card           0    Visa\n",
      "1           1 2019-01-01 00:01:17  Germany  ...     UK_Card           0    Visa\n",
      "2           2 2019-01-01 00:02:49  Germany  ...     UK_Card           1  Diners\n",
      "3           3 2019-01-01 00:03:13  Germany  ...     UK_Card           1  Diners\n",
      "4           4 2019-01-01 00:04:33  Austria  ...  Simplecard           0  Diners\n",
      "\n",
      "[5 rows x 8 columns]\n",
      "\n",
      "Basic statistics:\n",
      "         Unnamed: 0                           tmsp  ...       success    3D_secured\n",
      "count  50410.000000                          50410  ...  50410.000000  50410.000000\n",
      "mean   25204.500000  2019-01-29 16:28:52.923269120  ...      0.202896      0.238266\n",
      "min        0.000000            2019-01-01 00:01:11  ...      0.000000      0.000000\n",
      "25%    12602.250000  2019-01-14 12:00:36.249999872  ...      0.000000      0.000000\n",
      "50%    25204.500000     2019-01-30 15:20:07.500000  ...      0.000000      0.000000\n",
      "75%    37806.750000     2019-02-13 01:09:50.500000  ...      0.000000      0.000000\n",
      "max    50409.000000            2019-02-28 23:48:19  ...      1.000000      1.000000\n",
      "std    14552.257872                            NaN  ...      0.402160      0.426027\n",
      "\n",
      "[8 rows x 5 columns]\n",
      "\n",
      "Missing values in each column:\n",
      "Unnamed: 0    0\n",
      "tmsp          0\n",
      "country       0\n",
      "amount        0\n",
      "success       0\n",
      "PSP           0\n",
      "3D_secured    0\n",
      "card          0\n",
      "dtype: int64\n"
     ]
    }
   ],
   "source": [
    "# Load the dataset using pandas\n",
    "file_path = \"C:/Users/sakik/OneDrive/Documents/Personal Documents/Studies IU/5th Quarter/Model Engineering/data/raw/PSP_Jan_Feb_2019.xlsx\"\n",
    "df = pd.read_excel(file_path)\n",
    "\n",
    "# Exploring the dataset\n",
    "print(\"First 5 rows of the dataset:\")\n",
    "print(df.head())\n",
    "\n",
    "# Summary statistics for numerical columns\n",
    "print(\"\\nBasic statistics:\")\n",
    "print(df.describe())\n",
    "\n",
    "# Checking for missing values in the dataset\n",
    "print(\"\\nMissing values in each column:\")\n",
    "print(df.isnull().sum())"
   ]
  },
  {
   "cell_type": "code",
   "execution_count": 43,
   "metadata": {},
   "outputs": [
    {
     "name": "stdout",
     "output_type": "stream",
     "text": [
      "\n",
      "PSP success rates and transaction statistics:\n",
      "          PSP  success_rate  avg_amount  transaction_count\n",
      "0    Goldcard      0.406172  203.395574               3208\n",
      "1   Moneycard      0.218754  201.892853               8297\n",
      "2  Simplecard      0.158123  201.356661              12446\n",
      "3     UK_Card      0.194338  202.920934              26459\n"
     ]
    },
    {
     "data": {
      "image/png": "[encoded data removed]",
      "text/plain": [
       "<Figure size 1000x600 with 1 Axes>"
      ]
     },
     "metadata": {},
     "output_type": "display_data"
    }
   ],
   "source": [
    "# Grouping by PSP to get success rates and average transaction amount\n",
    "psp_stats = df.groupby('PSP').agg(\n",
    "    success_rate=('success', 'mean'), \n",
    "    avg_amount=('amount', 'mean'), \n",
    "    transaction_count=('success', 'size')\n",
    ").reset_index()\n",
    "\n",
    "print(\"\\nPSP success rates and transaction statistics:\")\n",
    "print(psp_stats)\n",
    "\n",
    "os.makedirs('reports', exist_ok=True)\n",
    "\n",
    "# Bar plot to show the success rates for each PSP\n",
    "plt.figure(figsize=(10,6))\n",
    "plt.bar(psp_stats['PSP'], psp_stats['success_rate'], color='skyblue')\n",
    "plt.title('Success Rate per PSP')\n",
    "plt.xlabel('PSP')\n",
    "plt.ylabel('Success Rate')\n",
    "plt.savefig('reports/success_rate_per_psp.png')\n",
    "plt.show()\n"
   ]
  },
  {
   "cell_type": "code",
   "execution_count": 5,
   "metadata": {},
   "outputs": [
    {
     "name": "stdout",
     "output_type": "stream",
     "text": [
      "\n",
      "Sample of grouped transactions:\n",
      "                 tmsp      country  amount  attempt_group\n",
      "0 2019-01-01 00:01:11      Germany      89              0\n",
      "1 2019-01-01 00:01:17      Germany      89              1\n",
      "2 2019-01-01 00:02:49      Germany     238              1\n",
      "3 2019-01-01 00:03:13      Germany     238              2\n",
      "4 2019-01-01 00:04:33      Austria     124              2\n",
      "5 2019-01-01 00:06:41  Switzerland     282              2\n",
      "6 2019-01-01 00:07:19  Switzerland     282              3\n",
      "7 2019-01-01 00:08:46      Germany     117              3\n",
      "8 2019-01-01 00:09:56  Switzerland     174              3\n",
      "9 2019-01-01 00:10:49  Switzerland     174              4\n"
     ]
    }
   ],
   "source": [
    "# Sorting the data by timestamp\n",
    "df = df.sort_values(by='tmsp')\n",
    "\n",
    "# Grouping multiple payment attempts within 1 minute\n",
    "df['attempt_group'] = ((df['tmsp'].diff().dt.total_seconds() < 60) &\n",
    "                       (df['amount'] == df['amount'].shift(1)) &\n",
    "                       (df['country'] == df['country'].shift(1))).cumsum()\n",
    "\n",
    "print(\"\\nSample of grouped transactions:\")\n",
    "print(df[['tmsp', 'country', 'amount', 'attempt_group']].head(10))\n"
   ]
  },
  {
   "cell_type": "code",
   "execution_count": 6,
   "metadata": {},
   "outputs": [],
   "source": [
    "# Extracting useful information from the timestamp column\n",
    "df['hour'] = df['tmsp'].dt.hour\n",
    "df['day_of_week'] = df['tmsp'].dt.dayofweek\n",
    "\n",
    "# Encoding categorical variables\n",
    "# Encode the PSP and card columns for model building\n",
    "label_encoder = LabelEncoder()\n",
    "df['PSP_encoded'] = label_encoder.fit_transform(df['PSP'])\n",
    "df['card_encoded'] = label_encoder.fit_transform(df['card'])\n"
   ]
  },
  {
   "cell_type": "code",
   "execution_count": 7,
   "metadata": {},
   "outputs": [],
   "source": [
    "# Ensure processed data folder exists\n",
    "import os\n",
    "os.makedirs('data/processed', exist_ok=True)\n",
    "\n",
    "# Save the processed data as CSV\n",
    "df.to_csv('data/processed/processed_transactions.csv', index=False)\n"
   ]
  },
  {
   "cell_type": "code",
   "execution_count": 8,
   "metadata": {},
   "outputs": [],
   "source": [
    "# Selecting the features and target variable\n",
    "X = df[['amount', 'PSP_encoded', '3D_secured', 'hour', 'day_of_week']]\n",
    "y = df['success']\n",
    "\n",
    "# Splitting the dataset into training (70%) and testing (30%) sets\n",
    "X_train, X_test, y_train, y_test = train_test_split(X, y, test_size=0.3, random_state=42)\n"
   ]
  },
  {
   "cell_type": "code",
   "execution_count": 56,
   "metadata": {},
   "outputs": [
    {
     "name": "stdout",
     "output_type": "stream",
     "text": [
      "Logistic Regression Cross-Validation Accuracy: 79.71%\n",
      "\n",
      "Logistic Regression Accuracy: 80.53%\n"
     ]
    }
   ],
   "source": [
    "# Cross-validation for Logistic Regression\n",
    "cv_scores_log_reg = cross_val_score(LogisticRegression(), X, y, cv=5)\n",
    "print(f\"Logistic Regression Cross-Validation Accuracy: {cv_scores_log_reg.mean() * 100:.2f}%\")\n",
    "\n",
    "# Logistic Regression model to predict transaction success\n",
    "model = LogisticRegression(max_iter=500)\n",
    "model.fit(X_train, y_train)\n",
    "\n",
    "# Making predictions and evaluating the model\n",
    "y_pred = model.predict(X_test)\n",
    "accuracy = accuracy_score(y_test, y_pred)\n",
    "\n",
    "print(f\"\\nLogistic Regression Accuracy: {accuracy * 100:.2f}%\")\n",
    "\n",
    "# Saving the Logistic Regression evaluation results\n",
    "with open('reports/logistic_regression_results.txt', 'w') as f:\n",
    "    f.write(f\"Logistic Regression Cross-Validation Accuracy: {cv_scores_log_reg.mean() * 100:.2f}%\\n\")\n",
    "    f.write(f\"Logistic Regression Accuracy: {accuracy * 100:.2f}%\\n\\n\")\n",
    "    f.write(\"Confusion Matrix:\\n\")\n",
    "    f.write(str(confusion_matrix(y_test, y_pred)) + \"\\n\\n\")\n",
    "    f.write(\"Classification Report:\\n\")\n",
    "    f.write(classification_report(y_test, y_pred, zero_division=0))\n"
   ]
  },
  {
   "cell_type": "code",
   "execution_count": 57,
   "metadata": {},
   "outputs": [
    {
     "name": "stdout",
     "output_type": "stream",
     "text": [
      "Fitting 5 folds for each of 10 candidates, totalling 50 fits\n",
      "\n",
      "Best Random Forest Accuracy after Randomized Tuning: 80.63%\n",
      "Best Parameters: {'n_estimators': 300, 'min_samples_split': 5, 'min_samples_leaf': 1, 'max_depth': 10}\n"
     ]
    }
   ],
   "source": [
    "# Hyperparameter Tuning for Random Forest Using RandomizedSearchCV\n",
    "param_grid = {\n",
    "    'n_estimators': [100, 200, 300],\n",
    "    'max_depth': [10, 20, 30, None],\n",
    "    'min_samples_split': [2, 5, 10],\n",
    "    'min_samples_leaf': [1, 2, 4]\n",
    "}\n",
    "\n",
    "rf = RandomForestClassifier(random_state=42)\n",
    "\n",
    "random_search = RandomizedSearchCV(estimator=rf, param_distributions=param_grid, n_iter=10, cv=5, n_jobs=-1, verbose=2)\n",
    "random_search.fit(X_train, y_train)\n",
    "\n",
    "# Best Random Forest model after tuning\n",
    "best_rf = random_search.best_estimator_\n",
    "y_pred_best_rf = best_rf.predict(X_test)\n",
    "accuracy_best_rf = accuracy_score(y_test, y_pred_best_rf)\n",
    "\n",
    "print(f\"\\nBest Random Forest Accuracy after Randomized Tuning: {accuracy_best_rf * 100:.2f}%\")\n",
    "print(f\"Best Parameters: {random_search.best_params_}\")\n",
    "\n",
    "# Saving the Random Forest evaluation results after tuning\n",
    "with open('reports/random_forest_tuned_results.txt', 'w') as f:\n",
    "    f.write(f\"Best Random Forest Accuracy after Randomized Tuning: {accuracy_best_rf * 100:.2f}%\\n\")\n",
    "    f.write(\"Best Parameters:\\n\")\n",
    "    f.write(str(random_search.best_params_) + \"\\n\\n\")\n",
    "    \n",
    "    f.write(\"Confusion Matrix:\\n\")\n",
    "    f.write(str(confusion_matrix(y_test, y_pred_best_rf)) + \"\\n\\n\")\n",
    "    \n",
    "    f.write(\"Classification Report:\\n\")\n",
    "    f.write(classification_report(y_test, y_pred_best_rf, zero_division=0))"
   ]
  },
  {
   "cell_type": "code",
   "execution_count": 58,
   "metadata": {},
   "outputs": [
    {
     "name": "stdout",
     "output_type": "stream",
     "text": [
      "\n",
      "Confusion Matrix for Random Forest:\n",
      "[[12064   115]\n",
      " [ 2814   130]]\n",
      "\n",
      "Classification Report for Random Forest:\n",
      "              precision    recall  f1-score   support\n",
      "\n",
      "           0       0.81      0.99      0.89     12179\n",
      "           1       0.53      0.04      0.08      2944\n",
      "\n",
      "    accuracy                           0.81     15123\n",
      "   macro avg       0.67      0.52      0.49     15123\n",
      "weighted avg       0.76      0.81      0.73     15123\n",
      "\n"
     ]
    }
   ],
   "source": [
    "# Confusion Matrix and Classification Report for Random Forest\n",
    "print(\"\\nConfusion Matrix for Random Forest:\")\n",
    "print(confusion_matrix(y_test, y_pred_best_rf))\n",
    "\n",
    "print(\"\\nClassification Report for Random Forest:\")\n",
    "print(classification_report(y_test, y_pred_best_rf))\n",
    "\n",
    "# Saving the Confusion Matrix and Classification Report for Random Forest\n",
    "with open('reports/random_forest_confusion_classification_report.txt', 'w') as f:\n",
    "    f.write(\"Confusion Matrix for Random Forest:\\n\")\n",
    "    f.write(str(confusion_matrix(y_test, y_pred_best_rf)) + \"\\n\\n\")\n",
    "    \n",
    "    f.write(\"Classification Report for Random Forest:\\n\")\n",
    "    f.write(classification_report(y_test, y_pred_best_rf, zero_division=0))\n"
   ]
  },
  {
   "cell_type": "code",
   "execution_count": 44,
   "metadata": {},
   "outputs": [
    {
     "name": "stdout",
     "output_type": "stream",
     "text": [
      "\n",
      "False Positives: 89\n",
      "False Negatives: 2812\n"
     ]
    },
    {
     "data": {
      "image/png": "[encoded data removed]",
      "text/plain": [
       "<Figure size 600x400 with 1 Axes>"
      ]
     },
     "metadata": {},
     "output_type": "display_data"
    }
   ],
   "source": [
    "# Error Analysis - False Positives and False Negatives\n",
    "false_positives = X_test[(y_test == 0) & (y_pred_best_rf == 1)]\n",
    "false_negatives = X_test[(y_test == 1) & (y_pred_best_rf == 0)]\n",
    "\n",
    "print(f\"\\nFalse Positives: {len(false_positives)}\")\n",
    "print(f\"False Negatives: {len(false_negatives)}\")\n",
    "\n",
    "# Visualizing Error Analysis\n",
    "error_counts = [len(false_positives), len(false_negatives)]\n",
    "error_labels = ['False Positives', 'False Negatives']\n",
    "\n",
    "plt.figure(figsize=(6,4))\n",
    "plt.bar(error_labels, error_counts, color=['red', 'blue'])\n",
    "plt.title('Error Analysis: False Positives and False Negatives')\n",
    "plt.xlabel('Error Type')\n",
    "plt.ylabel('Count')\n",
    "\n",
    "# Adding text annotations\n",
    "for i, count in enumerate(error_counts):\n",
    "    plt.text(i, count + 50, str(count), ha='center', fontsize=12)\n",
    "\n",
    "plt.savefig('reports/error_analysis_false_positives_false_negatives.png')  \n",
    "plt.show()\n"
   ]
  },
  {
   "cell_type": "code",
   "execution_count": 47,
   "metadata": {},
   "outputs": [
    {
     "data": {
      "image/png": "[encoded data removed]",
      "text/plain": [
       "<Figure size 1000x600 with 1 Axes>"
      ]
     },
     "metadata": {},
     "output_type": "display_data"
    }
   ],
   "source": [
    "# Visualizing Feature Importance for Random Forest\n",
    "importances = best_rf.feature_importances_\n",
    "feature_names = X.columns\n",
    "\n",
    "plt.figure(figsize=(10, 6))\n",
    "plt.barh(feature_names, importances, color='skyblue')\n",
    "plt.title('Feature Importance - Random Forest')\n",
    "plt.xlabel('Importance')\n",
    "plt.savefig('reports/Feature Importance - Random Forest')  \n",
    "plt.show()\n"
   ]
  },
  {
   "cell_type": "code",
   "execution_count": 14,
   "metadata": {},
   "outputs": [
    {
     "name": "stdout",
     "output_type": "stream",
     "text": [
      "\n",
      "Logistic Regression Accuracy: 80.53%\n",
      "Random Forest Accuracy (after tuning): 80.82%\n"
     ]
    }
   ],
   "source": [
    "# Summarize and Compare Model Results\n",
    "print(f\"\\nLogistic Regression Accuracy: {accuracy * 100:.2f}%\")\n",
    "print(f\"Random Forest Accuracy (after tuning): {accuracy_best_rf * 100:.2f}%\")"
   ]
  },
  {
   "cell_type": "markdown",
   "metadata": {},
   "source": [
    "# Business Interpretation & Cost of Errors\n",
    "\n"
   ]
  },
  {
   "cell_type": "code",
   "execution_count": 59,
   "metadata": {},
   "outputs": [
    {
     "name": "stdout",
     "output_type": "stream",
     "text": [
      "PSP Transaction Counts (Success/Failure):\n",
      "          PSP  total_transactions  successful_transactions  failed_transactions\n",
      "0    Goldcard                3208                     1303                 1905\n",
      "1   Moneycard                8297                     1815                 6482\n",
      "2  Simplecard               12446                     1968                10478\n",
      "3     UK_Card               26459                     5142                21317\n"
     ]
    }
   ],
   "source": [
    "# Calculate success and failure counts per PSP\n",
    "psp_transaction_counts = df.groupby('PSP').agg(\n",
    "    total_transactions=('success', 'size'),   # Total transactions per PSP\n",
    "    successful_transactions=('success', 'sum') # Successful transactions per PSP\n",
    ").reset_index()\n",
    "\n",
    "# Calculating the number of failed transactions for each PSP\n",
    "psp_transaction_counts['failed_transactions'] = (\n",
    "    psp_transaction_counts['total_transactions'] - psp_transaction_counts['successful_transactions']\n",
    ")\n",
    "\n",
    "print(\"PSP Transaction Counts (Success/Failure):\")\n",
    "print(psp_transaction_counts)\n",
    "\n",
    "# Save the PSP Transaction Counts (Success/Failure) to a CSV file\n",
    "psp_transaction_counts.to_csv('reports/psp_transaction_counts.csv', index=False)"
   ]
  },
  {
   "cell_type": "code",
   "execution_count": 16,
   "metadata": {},
   "outputs": [],
   "source": [
    "# Define the fee structure for each PSP\n",
    "psp_fees = {\n",
    "    'Moneycard': {'success_fee': 5, 'failure_fee': 2},\n",
    "    'Goldcard': {'success_fee': 10, 'failure_fee': 5},\n",
    "    'UK_Card': {'success_fee': 3, 'failure_fee': 1},\n",
    "    'Simplecard': {'success_fee': 1, 'failure_fee': 0.5}\n",
    "}"
   ]
  },
  {
   "cell_type": "code",
   "execution_count": 60,
   "metadata": {},
   "outputs": [
    {
     "name": "stdout",
     "output_type": "stream",
     "text": [
      "\n",
      "Total cost for each PSP based on success and failure rates:\n",
      "          PSP  successful_transactions  failed_transactions  total_cost\n",
      "0    Goldcard                     1303                 1905     22555.0\n",
      "1   Moneycard                     1815                 6482     22039.0\n",
      "2  Simplecard                     1968                10478      7207.0\n",
      "3     UK_Card                     5142                21317     36743.0\n"
     ]
    }
   ],
   "source": [
    "# Calculate total cost for each PSP based on success/failure rates and fee structure\n",
    "psp_transaction_counts['total_cost'] = psp_transaction_counts.apply(\n",
    "    lambda row: (\n",
    "        row['successful_transactions'] * psp_fees[row['PSP']]['success_fee'] + \n",
    "        row['failed_transactions'] * psp_fees[row['PSP']]['failure_fee']       \n",
    "    ), axis=1\n",
    ")\n",
    "\n",
    "print(\"\\nTotal cost for each PSP based on success and failure rates:\")\n",
    "print(psp_transaction_counts[['PSP', 'successful_transactions', 'failed_transactions', 'total_cost']])\n",
    "\n",
    "# Save the PSP total cost calculation to a CSV file\n",
    "psp_transaction_counts.to_csv('reports/psp_total_costs.csv', index=False)"
   ]
  },
  {
   "cell_type": "code",
   "execution_count": 48,
   "metadata": {},
   "outputs": [
    {
     "data": {
      "image/png": "[encoded data removed]",
      "text/plain": [
       "<Figure size 1000x600 with 1 Axes>"
      ]
     },
     "metadata": {},
     "output_type": "display_data"
    }
   ],
   "source": [
    "# Visualize the total costs per PSP\n",
    "plt.figure(figsize=(10,6))\n",
    "plt.bar(psp_transaction_counts['PSP'], psp_transaction_counts['total_cost'], color='skyblue')\n",
    "plt.title('Total Transaction Costs per PSP')\n",
    "plt.xlabel('PSP')\n",
    "plt.ylabel('Total Cost (€)')\n",
    "plt.savefig('reports/Total Transaction Costs per PSP.png')  \n",
    "plt.show()"
   ]
  },
  {
   "cell_type": "code",
   "execution_count": 61,
   "metadata": {},
   "outputs": [
    {
     "name": "stdout",
     "output_type": "stream",
     "text": [
      "\n",
      "The most cost-effective PSP is: Simplecard with a total cost of €7207.00\n",
      "The most expensive PSP is: UK_Card with a total cost of €36743.00\n",
      "\n",
      "To reduce costs and improve success rates, consider using Simplecard for transactions whenever possible.\n"
     ]
    }
   ],
   "source": [
    "# Business Interpretation\n",
    "\n",
    "# Identify the most cost-effective PSP (the one with the lowest total cost)\n",
    "most_cost_effective_psp = psp_transaction_counts.loc[psp_transaction_counts['total_cost'].idxmin()]\n",
    "\n",
    "# Identify the most expensive PSP (the one with the highest total cost)\n",
    "most_expensive_psp = psp_transaction_counts.loc[psp_transaction_counts['total_cost'].idxmax()]\n",
    "\n",
    "print(f\"\\nThe most cost-effective PSP is: {most_cost_effective_psp['PSP']} with a total cost of €{most_cost_effective_psp['total_cost']:.2f}\")\n",
    "print(f\"The most expensive PSP is: {most_expensive_psp['PSP']} with a total cost of €{most_expensive_psp['total_cost']:.2f}\")\n",
    "\n",
    "print(f\"\\nTo reduce costs and improve success rates, consider using {most_cost_effective_psp['PSP']} for transactions whenever possible.\")\n",
    "\n",
    "# Save cost recommendations to a text file\n",
    "with open('reports/psp_cost_recommendations.txt', 'w') as f:\n",
    "    f.write(f\"The most cost-effective PSP is: {most_cost_effective_psp['PSP']} with a total cost of €{most_cost_effective_psp['total_cost']:.2f}\\n\")\n",
    "    f.write(f\"The most expensive PSP is: {most_expensive_psp['PSP']} with a total cost of €{most_expensive_psp['total_cost']:.2f}\\n\")\n",
    "    f.write(f\"\\nTo reduce costs and improve success rates, consider using {most_cost_effective_psp['PSP']} for transactions whenever possible.\")\n",
    "\n"
   ]
  },
  {
   "cell_type": "markdown",
   "metadata": {},
   "source": [
    "# PSP Recommendation System\n"
   ]
  },
  {
   "cell_type": "code",
   "execution_count": 20,
   "metadata": {},
   "outputs": [
    {
     "name": "stdout",
     "output_type": "stream",
     "text": [
      "Index(['amount', 'PSP_encoded', '3D_secured', 'hour', 'day_of_week'], dtype='object')\n"
     ]
    }
   ],
   "source": [
    "print(X_train.columns)\n"
   ]
  },
  {
   "cell_type": "code",
   "execution_count": 21,
   "metadata": {},
   "outputs": [
    {
     "name": "stdout",
     "output_type": "stream",
     "text": [
      "Transaction Data Prepared for Prediction:\n",
      "   amount  PSP_encoded  3D_secured  hour  day_of_week\n",
      "0     200            0           1    14            2\n"
     ]
    }
   ],
   "source": [
    "# Preparing the transaction details including PSP_encoded \n",
    "amount = 200  # Amount in euros\n",
    "is_3D_secured = 1  # 1 = 3D secured, 0 = not 3D secured\n",
    "hour = 14  # Hour of the day (24-hour format)\n",
    "day_of_week = 2  # Day of the week (0 = Monday, 6 = Sunday)\n",
    "psp_encoded = 0  # Initial placeholder for PSP_encoded\n",
    "\n",
    "# Preparing the input features for the model\n",
    "transaction_data = pd.DataFrame({\n",
    "    'amount': [amount],\n",
    "    'PSP_encoded': [psp_encoded],  \n",
    "    '3D_secured': [is_3D_secured],\n",
    "    'hour': [hour],\n",
    "    'day_of_week': [day_of_week]\n",
    "})\n",
    "\n",
    "print(\"Transaction Data Prepared for Prediction:\")\n",
    "print(transaction_data)\n"
   ]
  },
  {
   "cell_type": "code",
   "execution_count": 22,
   "metadata": {},
   "outputs": [
    {
     "name": "stdout",
     "output_type": "stream",
     "text": [
      "Recommended PSP for this transaction: Master\n"
     ]
    }
   ],
   "source": [
    "# Using the trained Random Forest model to predict the recommended PSP\n",
    "predicted_psp = best_rf.predict(transaction_data)\n",
    "\n",
    "# Decoding the predicted PSP to get the original PSP name\n",
    "decoded_psp = label_encoder.inverse_transform(predicted_psp)[0]\n",
    "print(f\"Recommended PSP for this transaction: {decoded_psp}\")\n"
   ]
  },
  {
   "cell_type": "code",
   "execution_count": 23,
   "metadata": {},
   "outputs": [
    {
     "name": "stdout",
     "output_type": "stream",
     "text": [
      "Cross-Validation Scores: [0.7968263  0.79654293 0.79552218 0.7965141  0.79268811]\n",
      "Mean CV Score: 79.56%\n"
     ]
    }
   ],
   "source": [
    "# Performing 5-fold cross-validation for Random Forest\n",
    "cv_scores = cross_val_score(best_rf, X_train, y_train, cv=5)\n",
    "print(f\"Cross-Validation Scores: {cv_scores}\")\n",
    "print(f\"Mean CV Score: {cv_scores.mean() * 100:.2f}%\")"
   ]
  },
  {
   "cell_type": "code",
   "execution_count": 24,
   "metadata": {},
   "outputs": [
    {
     "name": "stdout",
     "output_type": "stream",
     "text": [
      "False Positives: 89\n",
      "False Negatives: 2812\n"
     ]
    }
   ],
   "source": [
    "# Error Analysis\n",
    "false_positives = X_test[(y_test == 0) & (y_pred_best_rf == 1)]\n",
    "false_negatives = X_test[(y_test == 1) & (y_pred_best_rf == 0)]\n",
    "\n",
    "print(f\"False Positives: {len(false_positives)}\")\n",
    "print(f\"False Negatives: {len(false_negatives)}\")\n"
   ]
  },
  {
   "cell_type": "code",
   "execution_count": 49,
   "metadata": {},
   "outputs": [
    {
     "data": {
      "image/png": "[encoded data removed]",
      "text/plain": [
       "<Figure size 640x480 with 1 Axes>"
      ]
     },
     "metadata": {},
     "output_type": "display_data"
    }
   ],
   "source": [
    "# Feature importance visualization\n",
    "feature_importances = best_rf.feature_importances_\n",
    "features = X_train.columns\n",
    "plt.barh(features, feature_importances)\n",
    "plt.xlabel(\"Feature Importance\")\n",
    "plt.ylabel(\"Features\")\n",
    "plt.title(\"Feature Importance for Random Forest Model\")\n",
    "plt.savefig('reports/Feature Importance for Random Forest Model')  \n",
    "plt.show()"
   ]
  },
  {
   "cell_type": "markdown",
   "metadata": {},
   "source": [
    "# Feature Selection and Model Optimization\n"
   ]
  },
  {
   "cell_type": "code",
   "execution_count": 62,
   "metadata": {},
   "outputs": [
    {
     "name": "stdout",
     "output_type": "stream",
     "text": [
      "amount: 0.4252\n",
      "PSP_encoded: 0.2228\n",
      "hour: 0.2091\n",
      "day_of_week: 0.0950\n",
      "3D_secured: 0.0479\n",
      "\n",
      "Top 3 features selected: Index(['amount', 'PSP_encoded', 'hour'], dtype='object')\n"
     ]
    }
   ],
   "source": [
    "# Displaying feature importance\n",
    "importances = best_rf.feature_importances_\n",
    "feature_names = X.columns\n",
    "\n",
    "# Sorting features by importance\n",
    "sorted_indices = importances.argsort()[::-1]\n",
    "sorted_features = feature_names[sorted_indices]\n",
    "sorted_importances = importances[sorted_indices]\n",
    "\n",
    "# Displaying the sorted feature importance\n",
    "for feature, importance in zip(sorted_features, sorted_importances):\n",
    "    print(f'{feature}: {importance:.4f}')\n",
    "\n",
    "# Selecting top features (let's say top 3 for now)\n",
    "top_features = sorted_features[:3]\n",
    "print(\"\\nTop 3 features selected:\", top_features)\n",
    "\n",
    "# Save feature importance results to a text file\n",
    "with open('reports/feature_importance_results.txt', 'w') as f:\n",
    "    f.write(\"Feature Importances (sorted):\\n\")\n",
    "    for feature, importance in zip(sorted_features, sorted_importances):\n",
    "        f.write(f\"{feature}: {importance:.4f}\\n\")\n",
    "    f.write(\"\\nTop 3 features selected:\\n\")\n",
    "    for feature in top_features:\n",
    "        f.write(f\"{feature}\\n\")\n",
    "\n"
   ]
  },
  {
   "cell_type": "markdown",
   "metadata": {},
   "source": [
    "# Re-training Model with Selected Features\n",
    "\n"
   ]
  },
  {
   "cell_type": "code",
   "execution_count": 63,
   "metadata": {},
   "outputs": [
    {
     "name": "stdout",
     "output_type": "stream",
     "text": [
      "\n",
      "Random Forest Accuracy with Selected Features: 74.36%\n",
      "\n",
      "Confusion Matrix with Selected Features:\n",
      "[[10704  1475]\n",
      " [ 2402   542]]\n",
      "\n",
      "Classification Report with Selected Features:\n",
      "              precision    recall  f1-score   support\n",
      "\n",
      "           0       0.82      0.88      0.85     12179\n",
      "           1       0.27      0.18      0.22      2944\n",
      "\n",
      "    accuracy                           0.74     15123\n",
      "   macro avg       0.54      0.53      0.53     15123\n",
      "weighted avg       0.71      0.74      0.72     15123\n",
      "\n"
     ]
    }
   ],
   "source": [
    "# Updating the feature set to only use top 3 selected features\n",
    "X_train_selected = X_train[top_features]\n",
    "X_test_selected = X_test[top_features]\n",
    "\n",
    "# Re-training the Random Forest model with selected features\n",
    "best_rf_selected = RandomForestClassifier(random_state=42)\n",
    "best_rf_selected.fit(X_train_selected, y_train)\n",
    "\n",
    "# Making predictions with the new model\n",
    "y_pred_selected = best_rf_selected.predict(X_test_selected)\n",
    "\n",
    "# Evaluating the new model\n",
    "accuracy_selected = accuracy_score(y_test, y_pred_selected)\n",
    "print(f\"\\nRandom Forest Accuracy with Selected Features: {accuracy_selected * 100:.2f}%\")\n",
    "\n",
    "# Confusion matrix and classification report\n",
    "print(\"\\nConfusion Matrix with Selected Features:\")\n",
    "print(confusion_matrix(y_test, y_pred_selected))\n",
    "\n",
    "print(\"\\nClassification Report with Selected Features:\")\n",
    "print(classification_report(y_test, y_pred_selected))\n",
    "\n",
    "# Save model evaluation results with selected features to a text file\n",
    "with open('reports/selected_features_evaluation.txt', 'w') as f:\n",
    "    f.write(f\"Random Forest Accuracy with Selected Features: {accuracy_selected * 100:.2f}%\\n\\n\")\n",
    "    f.write(\"Confusion Matrix with Selected Features:\\n\")\n",
    "    f.write(str(confusion_matrix(y_test, y_pred_selected)) + \"\\n\\n\")\n",
    "    f.write(\"Classification Report with Selected Features:\\n\")\n",
    "    f.write(classification_report(y_test, y_pred_selected))\n",
    "\n"
   ]
  },
  {
   "cell_type": "markdown",
   "metadata": {},
   "source": [
    "# Advanced Hyperparameter Tuning with Selected Features\n"
   ]
  },
  {
   "cell_type": "code",
   "execution_count": 28,
   "metadata": {},
   "outputs": [
    {
     "name": "stdout",
     "output_type": "stream",
     "text": [
      "Fitting 5 folds for each of 288 candidates, totalling 1440 fits\n",
      "Best Parameters: {'bootstrap': True, 'max_depth': 10, 'min_samples_leaf': 4, 'min_samples_split': 2, 'n_estimators': 200}\n",
      "\n",
      "Best Random Forest Accuracy after Tuning with Selected Features: 80.17%\n",
      "\n",
      "Confusion Matrix for Advanced Tuned Model:\n",
      "[[12038   141]\n",
      " [ 2858    86]]\n",
      "\n",
      "Classification Report for Advanced Tuned Model:\n",
      "              precision    recall  f1-score   support\n",
      "\n",
      "           0       0.81      0.99      0.89     12179\n",
      "           1       0.38      0.03      0.05      2944\n",
      "\n",
      "    accuracy                           0.80     15123\n",
      "   macro avg       0.59      0.51      0.47     15123\n",
      "weighted avg       0.72      0.80      0.73     15123\n",
      "\n"
     ]
    }
   ],
   "source": [
    "# Defining the hyperparameter grid\n",
    "param_grid_advanced = {\n",
    "    'n_estimators': [100, 200, 300, 500],\n",
    "    'max_depth': [10, 20, 30, None],\n",
    "    'min_samples_split': [2, 5, 10],\n",
    "    'min_samples_leaf': [1, 2, 4],\n",
    "    'bootstrap': [True, False]\n",
    "}\n",
    "\n",
    "# Initializing the Random Forest model\n",
    "rf_advanced = RandomForestClassifier(random_state=42)\n",
    "\n",
    "# Using GridSearchCV for hyperparameter tuning\n",
    "grid_search_advanced = GridSearchCV(estimator=rf_advanced, param_grid=param_grid_advanced, \n",
    "                                    cv=5, n_jobs=-1, verbose=2)\n",
    "\n",
    "# Fitting the model with selected features\n",
    "grid_search_advanced.fit(X_train_selected, y_train)\n",
    "\n",
    "# Best estimator and parameters\n",
    "best_rf_advanced = grid_search_advanced.best_estimator_\n",
    "print(f\"Best Parameters: {grid_search_advanced.best_params_}\")\n",
    "\n",
    "# Making predictions and evaluating the tuned model\n",
    "y_pred_advanced = best_rf_advanced.predict(X_test_selected)\n",
    "accuracy_advanced = accuracy_score(y_test, y_pred_advanced)\n",
    "print(f\"\\nBest Random Forest Accuracy after Tuning with Selected Features: {accuracy_advanced * 100:.2f}%\")\n",
    "\n",
    "# Confusion matrix and classification report\n",
    "print(\"\\nConfusion Matrix for Advanced Tuned Model:\")\n",
    "print(confusion_matrix(y_test, y_pred_advanced))\n",
    "\n",
    "print(\"\\nClassification Report for Advanced Tuned Model:\")\n",
    "print(classification_report(y_test, y_pred_advanced))\n",
    "\n",
    "# Save the advanced tuning results automatically\n",
    "with open('reports/advanced_tuning_selected_features.txt', 'w') as f:\n",
    "    f.write(f\"Best Random Forest Accuracy after Tuning with Selected Features: {accuracy_advanced * 100:.2f}%\\n\")\n",
    "    f.write(f\"Best Parameters: {grid_search_advanced.best_params_}\\n\\n\")\n",
    "    f.write(\"Confusion Matrix for Advanced Tuned Model:\\n\")\n",
    "    f.write(f\"{confusion_matrix(y_test, y_pred_advanced)}\\n\\n\")\n",
    "    f.write(\"Classification Report for Advanced Tuned Model:\\n\")\n",
    "    f.write(f\"{classification_report(y_test, y_pred_advanced)}\\n\")\n"
   ]
  },
  {
   "cell_type": "markdown",
   "metadata": {},
   "source": [
    "# Model Ensemble with Stacking Classifier"
   ]
  },
  {
   "cell_type": "code",
   "execution_count": 29,
   "metadata": {},
   "outputs": [],
   "source": [
    "# Defining base models for stacking\n",
    "base_models = [\n",
    "    ('log_reg', LogisticRegression()),  # Logistic Regression\n",
    "    ('rf', RandomForestClassifier(n_estimators=200, random_state=42)),  # Random Forest\n",
    "    ('dt', DecisionTreeClassifier(random_state=42))  # Decision Tree\n",
    "]"
   ]
  },
  {
   "cell_type": "code",
   "execution_count": 30,
   "metadata": {},
   "outputs": [],
   "source": [
    "meta_classifier = LogisticRegression()"
   ]
  },
  {
   "cell_type": "code",
   "execution_count": 31,
   "metadata": {},
   "outputs": [],
   "source": [
    "stacking_clf = StackingClassifier(estimators=base_models, final_estimator=meta_classifier, cv=5, n_jobs=-1)\n"
   ]
  },
  {
   "cell_type": "code",
   "execution_count": 53,
   "metadata": {},
   "outputs": [
    {
     "data": {
      "text/html": [
       "<style>#sk-container-id-2 {\n",
       "  /* Definition of color scheme common for light and dark mode */\n",
       "  --sklearn-color-text: black;\n",
       "  --sklearn-color-line: gray;\n",
       "  /* Definition of color scheme for unfitted estimators */\n",
       "  --sklearn-color-unfitted-level-0: #fff5e6;\n",
       "  --sklearn-color-unfitted-level-1: #f6e4d2;\n",
       "  --sklearn-color-unfitted-level-2: #ffe0b3;\n",
       "  --sklearn-color-unfitted-level-3: chocolate;\n",
       "  /* Definition of color scheme for fitted estimators */\n",
       "  --sklearn-color-fitted-level-0: #f0f8ff;\n",
       "  --sklearn-color-fitted-level-1: #d4ebff;\n",
       "  --sklearn-color-fitted-level-2: #b3dbfd;\n",
       "  --sklearn-color-fitted-level-3: cornflowerblue;\n",
       "\n",
       "  /* Specific color for light theme */\n",
       "  --sklearn-color-text-on-default-background: var(--sg-text-color, var(--theme-code-foreground, var(--jp-content-font-color1, black)));\n",
       "  --sklearn-color-background: var(--sg-background-color, var(--theme-background, var(--jp-layout-color0, white)));\n",
       "  --sklearn-color-border-box: var(--sg-text-color, var(--theme-code-foreground, var(--jp-content-font-color1, black)));\n",
       "  --sklearn-color-icon: #696969;\n",
       "\n",
       "  @media (prefers-color-scheme: dark) {\n",
       "    /* Redefinition of color scheme for dark theme */\n",
       "    --sklearn-color-text-on-default-background: var(--sg-text-color, var(--theme-code-foreground, var(--jp-content-font-color1, white)));\n",
       "    --sklearn-color-background: var(--sg-background-color, var(--theme-background, var(--jp-layout-color0, #111)));\n",
       "    --sklearn-color-border-box: var(--sg-text-color, var(--theme-code-foreground, var(--jp-content-font-color1, white)));\n",
       "    --sklearn-color-icon: #878787;\n",
       "  }\n",
       "}\n",
       "\n",
       "#sk-container-id-2 {\n",
       "  color: var(--sklearn-color-text);\n",
       "}\n",
       "\n",
       "#sk-container-id-2 pre {\n",
       "  padding: 0;\n",
       "}\n",
       "\n",
       "#sk-container-id-2 input.sk-hidden--visually {\n",
       "  border: 0;\n",
       "  clip: rect(1px 1px 1px 1px);\n",
       "  clip: rect(1px, 1px, 1px, 1px);\n",
       "  height: 1px;\n",
       "  margin: -1px;\n",
       "  overflow: hidden;\n",
       "  padding: 0;\n",
       "  position: absolute;\n",
       "  width: 1px;\n",
       "}\n",
       "\n",
       "#sk-container-id-2 div.sk-dashed-wrapped {\n",
       "  border: 1px dashed var(--sklearn-color-line);\n",
       "  margin: 0 0.4em 0.5em 0.4em;\n",
       "  box-sizing: border-box;\n",
       "  padding-bottom: 0.4em;\n",
       "  background-color: var(--sklearn-color-background);\n",
       "}\n",
       "\n",
       "#sk-container-id-2 div.sk-container {\n",
       "  /* jupyter's `normalize.less` sets `[hidden] { display: none; }`\n",
       "     but bootstrap.min.css set `[hidden] { display: none !important; }`\n",
       "     so we also need the `!important` here to be able to override the\n",
       "     default hidden behavior on the sphinx rendered scikit-learn.org.\n",
       "     See: https://github.com/scikit-learn/scikit-learn/issues/21755 */\n",
       "  display: inline-block !important;\n",
       "  position: relative;\n",
       "}\n",
       "\n",
       "#sk-container-id-2 div.sk-text-repr-fallback {\n",
       "  display: none;\n",
       "}\n",
       "\n",
       "div.sk-parallel-item,\n",
       "div.sk-serial,\n",
       "div.sk-item {\n",
       "  /* draw centered vertical line to link estimators */\n",
       "  background-image: linear-gradient(var(--sklearn-color-text-on-default-background), var(--sklearn-color-text-on-default-background));\n",
       "  background-size: 2px 100%;\n",
       "  background-repeat: no-repeat;\n",
       "  background-position: center center;\n",
       "}\n",
       "\n",
       "/* Parallel-specific style estimator block */\n",
       "\n",
       "#sk-container-id-2 div.sk-parallel-item::after {\n",
       "  content: \"\";\n",
       "  width: 100%;\n",
       "  border-bottom: 2px solid var(--sklearn-color-text-on-default-background);\n",
       "  flex-grow: 1;\n",
       "}\n",
       "\n",
       "#sk-container-id-2 div.sk-parallel {\n",
       "  display: flex;\n",
       "  align-items: stretch;\n",
       "  justify-content: center;\n",
       "  background-color: var(--sklearn-color-background);\n",
       "  position: relative;\n",
       "}\n",
       "\n",
       "#sk-container-id-2 div.sk-parallel-item {\n",
       "  display: flex;\n",
       "  flex-direction: column;\n",
       "}\n",
       "\n",
       "#sk-container-id-2 div.sk-parallel-item:first-child::after {\n",
       "  align-self: flex-end;\n",
       "  width: 50%;\n",
       "}\n",
       "\n",
       "#sk-container-id-2 div.sk-parallel-item:last-child::after {\n",
       "  align-self: flex-start;\n",
       "  width: 50%;\n",
       "}\n",
       "\n",
       "#sk-container-id-2 div.sk-parallel-item:only-child::after {\n",
       "  width: 0;\n",
       "}\n",
       "\n",
       "/* Serial-specific style estimator block */\n",
       "\n",
       "#sk-container-id-2 div.sk-serial {\n",
       "  display: flex;\n",
       "  flex-direction: column;\n",
       "  align-items: center;\n",
       "  background-color: var(--sklearn-color-background);\n",
       "  padding-right: 1em;\n",
       "  padding-left: 1em;\n",
       "}\n",
       "\n",
       "\n",
       "/* Toggleable style: style used for estimator/Pipeline/ColumnTransformer box that is\n",
       "clickable and can be expanded/collapsed.\n",
       "- Pipeline and ColumnTransformer use this feature and define the default style\n",
       "- Estimators will overwrite some part of the style using the `sk-estimator` class\n",
       "*/\n",
       "\n",
       "/* Pipeline and ColumnTransformer style (default) */\n",
       "\n",
       "#sk-container-id-2 div.sk-toggleable {\n",
       "  /* Default theme specific background. It is overwritten whether we have a\n",
       "  specific estimator or a Pipeline/ColumnTransformer */\n",
       "  background-color: var(--sklearn-color-background);\n",
       "}\n",
       "\n",
       "/* Toggleable label */\n",
       "#sk-container-id-2 label.sk-toggleable__label {\n",
       "  cursor: pointer;\n",
       "  display: block;\n",
       "  width: 100%;\n",
       "  margin-bottom: 0;\n",
       "  padding: 0.5em;\n",
       "  box-sizing: border-box;\n",
       "  text-align: center;\n",
       "}\n",
       "\n",
       "#sk-container-id-2 label.sk-toggleable__label-arrow:before {\n",
       "  /* Arrow on the left of the label */\n",
       "  content: \"▸\";\n",
       "  float: left;\n",
       "  margin-right: 0.25em;\n",
       "  color: var(--sklearn-color-icon);\n",
       "}\n",
       "\n",
       "#sk-container-id-2 label.sk-toggleable__label-arrow:hover:before {\n",
       "  color: var(--sklearn-color-text);\n",
       "}\n",
       "\n",
       "/* Toggleable content - dropdown */\n",
       "\n",
       "#sk-container-id-2 div.sk-toggleable__content {\n",
       "  max-height: 0;\n",
       "  max-width: 0;\n",
       "  overflow: hidden;\n",
       "  text-align: left;\n",
       "  /* unfitted */\n",
       "  background-color: var(--sklearn-color-unfitted-level-0);\n",
       "}\n",
       "\n",
       "#sk-container-id-2 div.sk-toggleable__content.fitted {\n",
       "  /* fitted */\n",
       "  background-color: var(--sklearn-color-fitted-level-0);\n",
       "}\n",
       "\n",
       "#sk-container-id-2 div.sk-toggleable__content pre {\n",
       "  margin: 0.2em;\n",
       "  border-radius: 0.25em;\n",
       "  color: var(--sklearn-color-text);\n",
       "  /* unfitted */\n",
       "  background-color: var(--sklearn-color-unfitted-level-0);\n",
       "}\n",
       "\n",
       "#sk-container-id-2 div.sk-toggleable__content.fitted pre {\n",
       "  /* unfitted */\n",
       "  background-color: var(--sklearn-color-fitted-level-0);\n",
       "}\n",
       "\n",
       "#sk-container-id-2 input.sk-toggleable__control:checked~div.sk-toggleable__content {\n",
       "  /* Expand drop-down */\n",
       "  max-height: 200px;\n",
       "  max-width: 100%;\n",
       "  overflow: auto;\n",
       "}\n",
       "\n",
       "#sk-container-id-2 input.sk-toggleable__control:checked~label.sk-toggleable__label-arrow:before {\n",
       "  content: \"▾\";\n",
       "}\n",
       "\n",
       "/* Pipeline/ColumnTransformer-specific style */\n",
       "\n",
       "#sk-container-id-2 div.sk-label input.sk-toggleable__control:checked~label.sk-toggleable__label {\n",
       "  color: var(--sklearn-color-text);\n",
       "  background-color: var(--sklearn-color-unfitted-level-2);\n",
       "}\n",
       "\n",
       "#sk-container-id-2 div.sk-label.fitted input.sk-toggleable__control:checked~label.sk-toggleable__label {\n",
       "  background-color: var(--sklearn-color-fitted-level-2);\n",
       "}\n",
       "\n",
       "/* Estimator-specific style */\n",
       "\n",
       "/* Colorize estimator box */\n",
       "#sk-container-id-2 div.sk-estimator input.sk-toggleable__control:checked~label.sk-toggleable__label {\n",
       "  /* unfitted */\n",
       "  background-color: var(--sklearn-color-unfitted-level-2);\n",
       "}\n",
       "\n",
       "#sk-container-id-2 div.sk-estimator.fitted input.sk-toggleable__control:checked~label.sk-toggleable__label {\n",
       "  /* fitted */\n",
       "  background-color: var(--sklearn-color-fitted-level-2);\n",
       "}\n",
       "\n",
       "#sk-container-id-2 div.sk-label label.sk-toggleable__label,\n",
       "#sk-container-id-2 div.sk-label label {\n",
       "  /* The background is the default theme color */\n",
       "  color: var(--sklearn-color-text-on-default-background);\n",
       "}\n",
       "\n",
       "/* On hover, darken the color of the background */\n",
       "#sk-container-id-2 div.sk-label:hover label.sk-toggleable__label {\n",
       "  color: var(--sklearn-color-text);\n",
       "  background-color: var(--sklearn-color-unfitted-level-2);\n",
       "}\n",
       "\n",
       "/* Label box, darken color on hover, fitted */\n",
       "#sk-container-id-2 div.sk-label.fitted:hover label.sk-toggleable__label.fitted {\n",
       "  color: var(--sklearn-color-text);\n",
       "  background-color: var(--sklearn-color-fitted-level-2);\n",
       "}\n",
       "\n",
       "/* Estimator label */\n",
       "\n",
       "#sk-container-id-2 div.sk-label label {\n",
       "  font-family: monospace;\n",
       "  font-weight: bold;\n",
       "  display: inline-block;\n",
       "  line-height: 1.2em;\n",
       "}\n",
       "\n",
       "#sk-container-id-2 div.sk-label-container {\n",
       "  text-align: center;\n",
       "}\n",
       "\n",
       "/* Estimator-specific */\n",
       "#sk-container-id-2 div.sk-estimator {\n",
       "  font-family: monospace;\n",
       "  border: 1px dotted var(--sklearn-color-border-box);\n",
       "  border-radius: 0.25em;\n",
       "  box-sizing: border-box;\n",
       "  margin-bottom: 0.5em;\n",
       "  /* unfitted */\n",
       "  background-color: var(--sklearn-color-unfitted-level-0);\n",
       "}\n",
       "\n",
       "#sk-container-id-2 div.sk-estimator.fitted {\n",
       "  /* fitted */\n",
       "  background-color: var(--sklearn-color-fitted-level-0);\n",
       "}\n",
       "\n",
       "/* on hover */\n",
       "#sk-container-id-2 div.sk-estimator:hover {\n",
       "  /* unfitted */\n",
       "  background-color: var(--sklearn-color-unfitted-level-2);\n",
       "}\n",
       "\n",
       "#sk-container-id-2 div.sk-estimator.fitted:hover {\n",
       "  /* fitted */\n",
       "  background-color: var(--sklearn-color-fitted-level-2);\n",
       "}\n",
       "\n",
       "/* Specification for estimator info (e.g. \"i\" and \"?\") */\n",
       "\n",
       "/* Common style for \"i\" and \"?\" */\n",
       "\n",
       ".sk-estimator-doc-link,\n",
       "a:link.sk-estimator-doc-link,\n",
       "a:visited.sk-estimator-doc-link {\n",
       "  float: right;\n",
       "  font-size: smaller;\n",
       "  line-height: 1em;\n",
       "  font-family: monospace;\n",
       "  background-color: var(--sklearn-color-background);\n",
       "  border-radius: 1em;\n",
       "  height: 1em;\n",
       "  width: 1em;\n",
       "  text-decoration: none !important;\n",
       "  margin-left: 1ex;\n",
       "  /* unfitted */\n",
       "  border: var(--sklearn-color-unfitted-level-1) 1pt solid;\n",
       "  color: var(--sklearn-color-unfitted-level-1);\n",
       "}\n",
       "\n",
       ".sk-estimator-doc-link.fitted,\n",
       "a:link.sk-estimator-doc-link.fitted,\n",
       "a:visited.sk-estimator-doc-link.fitted {\n",
       "  /* fitted */\n",
       "  border: var(--sklearn-color-fitted-level-1) 1pt solid;\n",
       "  color: var(--sklearn-color-fitted-level-1);\n",
       "}\n",
       "\n",
       "/* On hover */\n",
       "div.sk-estimator:hover .sk-estimator-doc-link:hover,\n",
       ".sk-estimator-doc-link:hover,\n",
       "div.sk-label-container:hover .sk-estimator-doc-link:hover,\n",
       ".sk-estimator-doc-link:hover {\n",
       "  /* unfitted */\n",
       "  background-color: var(--sklearn-color-unfitted-level-3);\n",
       "  color: var(--sklearn-color-background);\n",
       "  text-decoration: none;\n",
       "}\n",
       "\n",
       "div.sk-estimator.fitted:hover .sk-estimator-doc-link.fitted:hover,\n",
       ".sk-estimator-doc-link.fitted:hover,\n",
       "div.sk-label-container:hover .sk-estimator-doc-link.fitted:hover,\n",
       ".sk-estimator-doc-link.fitted:hover {\n",
       "  /* fitted */\n",
       "  background-color: var(--sklearn-color-fitted-level-3);\n",
       "  color: var(--sklearn-color-background);\n",
       "  text-decoration: none;\n",
       "}\n",
       "\n",
       "/* Span, style for the box shown on hovering the info icon */\n",
       ".sk-estimator-doc-link span {\n",
       "  display: none;\n",
       "  z-index: 9999;\n",
       "  position: relative;\n",
       "  font-weight: normal;\n",
       "  right: .2ex;\n",
       "  padding: .5ex;\n",
       "  margin: .5ex;\n",
       "  width: min-content;\n",
       "  min-width: 20ex;\n",
       "  max-width: 50ex;\n",
       "  color: var(--sklearn-color-text);\n",
       "  box-shadow: 2pt 2pt 4pt #999;\n",
       "  /* unfitted */\n",
       "  background: var(--sklearn-color-unfitted-level-0);\n",
       "  border: .5pt solid var(--sklearn-color-unfitted-level-3);\n",
       "}\n",
       "\n",
       ".sk-estimator-doc-link.fitted span {\n",
       "  /* fitted */\n",
       "  background: var(--sklearn-color-fitted-level-0);\n",
       "  border: var(--sklearn-color-fitted-level-3);\n",
       "}\n",
       "\n",
       ".sk-estimator-doc-link:hover span {\n",
       "  display: block;\n",
       "}\n",
       "\n",
       "/* \"?\"-specific style due to the `<a>` HTML tag */\n",
       "\n",
       "#sk-container-id-2 a.estimator_doc_link {\n",
       "  float: right;\n",
       "  font-size: 1rem;\n",
       "  line-height: 1em;\n",
       "  font-family: monospace;\n",
       "  background-color: var(--sklearn-color-background);\n",
       "  border-radius: 1rem;\n",
       "  height: 1rem;\n",
       "  width: 1rem;\n",
       "  text-decoration: none;\n",
       "  /* unfitted */\n",
       "  color: var(--sklearn-color-unfitted-level-1);\n",
       "  border: var(--sklearn-color-unfitted-level-1) 1pt solid;\n",
       "}\n",
       "\n",
       "#sk-container-id-2 a.estimator_doc_link.fitted {\n",
       "  /* fitted */\n",
       "  border: var(--sklearn-color-fitted-level-1) 1pt solid;\n",
       "  color: var(--sklearn-color-fitted-level-1);\n",
       "}\n",
       "\n",
       "/* On hover */\n",
       "#sk-container-id-2 a.estimator_doc_link:hover {\n",
       "  /* unfitted */\n",
       "  background-color: var(--sklearn-color-unfitted-level-3);\n",
       "  color: var(--sklearn-color-background);\n",
       "  text-decoration: none;\n",
       "}\n",
       "\n",
       "#sk-container-id-2 a.estimator_doc_link.fitted:hover {\n",
       "  /* fitted */\n",
       "  background-color: var(--sklearn-color-fitted-level-3);\n",
       "}\n",
       "</style><div id=\"sk-container-id-2\" class=\"sk-top-container\"><div class=\"sk-text-repr-fallback\"><pre>StackingClassifier(cv=5,\n",
       "                   estimators=[(&#x27;log_reg&#x27;, LogisticRegression()),\n",
       "                               (&#x27;rf&#x27;,\n",
       "                                RandomForestClassifier(n_estimators=200,\n",
       "                                                       random_state=42)),\n",
       "                               (&#x27;dt&#x27;, DecisionTreeClassifier(random_state=42))],\n",
       "                   final_estimator=LogisticRegression(), n_jobs=-1)</pre><b>In a Jupyter environment, please rerun this cell to show the HTML representation or trust the notebook. <br />On GitHub, the HTML representation is unable to render, please try loading this page with nbviewer.org.</b></div><div class=\"sk-container\" hidden><div class=\"sk-item sk-dashed-wrapped\"><div class=\"sk-label-container\"><div class=\"sk-label fitted sk-toggleable\"><input class=\"sk-toggleable__control sk-hidden--visually\" id=\"sk-estimator-id-6\" type=\"checkbox\" ><label for=\"sk-estimator-id-6\" class=\"sk-toggleable__label fitted sk-toggleable__label-arrow fitted\">&nbsp;&nbsp;StackingClassifier<a class=\"sk-estimator-doc-link fitted\" rel=\"noreferrer\" target=\"_blank\" href=\"https://scikit-learn.org/1.5/modules/generated/sklearn.ensemble.StackingClassifier.html\">?<span>Documentation for StackingClassifier</span></a><span class=\"sk-estimator-doc-link fitted\">i<span>Fitted</span></span></label><div class=\"sk-toggleable__content fitted\"><pre>StackingClassifier(cv=5,\n",
       "                   estimators=[(&#x27;log_reg&#x27;, LogisticRegression()),\n",
       "                               (&#x27;rf&#x27;,\n",
       "                                RandomForestClassifier(n_estimators=200,\n",
       "                                                       random_state=42)),\n",
       "                               (&#x27;dt&#x27;, DecisionTreeClassifier(random_state=42))],\n",
       "                   final_estimator=LogisticRegression(), n_jobs=-1)</pre></div> </div></div><div class=\"sk-serial\"><div class=\"sk-item\"><div class=\"sk-parallel\"><div class=\"sk-parallel-item\"><div class=\"sk-item\"><div class=\"sk-label-container\"><div class=\"sk-label fitted sk-toggleable\"><label>log_reg</label></div></div><div class=\"sk-serial\"><div class=\"sk-item\"><div class=\"sk-estimator fitted sk-toggleable\"><input class=\"sk-toggleable__control sk-hidden--visually\" id=\"sk-estimator-id-7\" type=\"checkbox\" ><label for=\"sk-estimator-id-7\" class=\"sk-toggleable__label fitted sk-toggleable__label-arrow fitted\">&nbsp;LogisticRegression<a class=\"sk-estimator-doc-link fitted\" rel=\"noreferrer\" target=\"_blank\" href=\"https://scikit-learn.org/1.5/modules/generated/sklearn.linear_model.LogisticRegression.html\">?<span>Documentation for LogisticRegression</span></a></label><div class=\"sk-toggleable__content fitted\"><pre>LogisticRegression()</pre></div> </div></div></div></div></div><div class=\"sk-parallel-item\"><div class=\"sk-item\"><div class=\"sk-label-container\"><div class=\"sk-label fitted sk-toggleable\"><label>rf</label></div></div><div class=\"sk-serial\"><div class=\"sk-item\"><div class=\"sk-estimator fitted sk-toggleable\"><input class=\"sk-toggleable__control sk-hidden--visually\" id=\"sk-estimator-id-8\" type=\"checkbox\" ><label for=\"sk-estimator-id-8\" class=\"sk-toggleable__label fitted sk-toggleable__label-arrow fitted\">&nbsp;RandomForestClassifier<a class=\"sk-estimator-doc-link fitted\" rel=\"noreferrer\" target=\"_blank\" href=\"https://scikit-learn.org/1.5/modules/generated/sklearn.ensemble.RandomForestClassifier.html\">?<span>Documentation for RandomForestClassifier</span></a></label><div class=\"sk-toggleable__content fitted\"><pre>RandomForestClassifier(n_estimators=200, random_state=42)</pre></div> </div></div></div></div></div><div class=\"sk-parallel-item\"><div class=\"sk-item\"><div class=\"sk-label-container\"><div class=\"sk-label fitted sk-toggleable\"><label>dt</label></div></div><div class=\"sk-serial\"><div class=\"sk-item\"><div class=\"sk-estimator fitted sk-toggleable\"><input class=\"sk-toggleable__control sk-hidden--visually\" id=\"sk-estimator-id-9\" type=\"checkbox\" ><label for=\"sk-estimator-id-9\" class=\"sk-toggleable__label fitted sk-toggleable__label-arrow fitted\">&nbsp;DecisionTreeClassifier<a class=\"sk-estimator-doc-link fitted\" rel=\"noreferrer\" target=\"_blank\" href=\"https://scikit-learn.org/1.5/modules/generated/sklearn.tree.DecisionTreeClassifier.html\">?<span>Documentation for DecisionTreeClassifier</span></a></label><div class=\"sk-toggleable__content fitted\"><pre>DecisionTreeClassifier(random_state=42)</pre></div> </div></div></div></div></div></div></div><div class=\"sk-item\"><div class=\"sk-parallel\"><div class=\"sk-parallel-item\"><div class=\"sk-item\"><div class=\"sk-label-container\"><div class=\"sk-label fitted sk-toggleable\"><label>final_estimator</label></div></div><div class=\"sk-serial\"><div class=\"sk-item\"><div class=\"sk-estimator fitted sk-toggleable\"><input class=\"sk-toggleable__control sk-hidden--visually\" id=\"sk-estimator-id-10\" type=\"checkbox\" ><label for=\"sk-estimator-id-10\" class=\"sk-toggleable__label fitted sk-toggleable__label-arrow fitted\">&nbsp;LogisticRegression<a class=\"sk-estimator-doc-link fitted\" rel=\"noreferrer\" target=\"_blank\" href=\"https://scikit-learn.org/1.5/modules/generated/sklearn.linear_model.LogisticRegression.html\">?<span>Documentation for LogisticRegression</span></a></label><div class=\"sk-toggleable__content fitted\"><pre>LogisticRegression()</pre></div> </div></div></div></div></div></div></div></div></div></div></div>"
      ],
      "text/plain": [
       "StackingClassifier(cv=5,\n",
       "                   estimators=[('log_reg', LogisticRegression()),\n",
       "                               ('rf',\n",
       "                                RandomForestClassifier(n_estimators=200,\n",
       "                                                       random_state=42)),\n",
       "                               ('dt', DecisionTreeClassifier(random_state=42))],\n",
       "                   final_estimator=LogisticRegression(), n_jobs=-1)"
      ]
     },
     "execution_count": 53,
     "metadata": {},
     "output_type": "execute_result"
    }
   ],
   "source": [
    "stacking_clf.fit(X_train_selected, y_train)\n"
   ]
  },
  {
   "cell_type": "code",
   "execution_count": 33,
   "metadata": {},
   "outputs": [],
   "source": [
    "y_pred_stacking = stacking_clf.predict(X_test_selected)\n"
   ]
  },
  {
   "cell_type": "code",
   "execution_count": 34,
   "metadata": {},
   "outputs": [
    {
     "name": "stdout",
     "output_type": "stream",
     "text": [
      "\n",
      "Stacking Classifier Accuracy: 80.53%\n"
     ]
    }
   ],
   "source": [
    "# Evaluating the Stacking Classifier's performance\n",
    "accuracy_stacking = accuracy_score(y_test, y_pred_stacking)\n",
    "print(f\"\\nStacking Classifier Accuracy: {accuracy_stacking * 100:.2f}%\")\n"
   ]
  },
  {
   "cell_type": "code",
   "execution_count": 65,
   "metadata": {},
   "outputs": [
    {
     "name": "stdout",
     "output_type": "stream",
     "text": [
      "\n",
      "Stacking Classifier Accuracy (Balanced): 65.11%\n",
      "[[8814 3365]\n",
      " [1911 1033]]\n",
      "              precision    recall  f1-score   support\n",
      "\n",
      "           0       0.82      0.72      0.77     12179\n",
      "           1       0.23      0.35      0.28      2944\n",
      "\n",
      "    accuracy                           0.65     15123\n",
      "   macro avg       0.53      0.54      0.53     15123\n",
      "weighted avg       0.71      0.65      0.67     15123\n",
      "\n"
     ]
    }
   ],
   "source": [
    "from imblearn.over_sampling import SMOTE\n",
    "\n",
    "# Apply SMOTE to balance the dataset\n",
    "smote = SMOTE(random_state=42)\n",
    "X_train_balanced, y_train_balanced = smote.fit_resample(X_train_selected, y_train)\n",
    "\n",
    "# Train the stacking classifier again with the balanced data\n",
    "stacking_clf.fit(X_train_balanced, y_train_balanced)\n",
    "\n",
    "# Predict and evaluate on the test set\n",
    "y_pred_stacking = stacking_clf.predict(X_test_selected)\n",
    "\n",
    "# Evaluate the results\n",
    "accuracy_stacking = accuracy_score(y_test, y_pred_stacking)\n",
    "print(f\"\\nStacking Classifier Accuracy (Balanced): {accuracy_stacking * 100:.2f}%\")\n",
    "print(confusion_matrix(y_test, y_pred_stacking))\n",
    "print(classification_report(y_test, y_pred_stacking))\n",
    "\n",
    "# Save the stacking classifier results with SMOTE to a file\n",
    "with open('reports/stacking_classifier_balanced.txt', 'w') as f:\n",
    "    f.write(f\"Stacking Classifier Accuracy (Balanced): {accuracy_stacking * 100:.2f}%\\n\\n\")\n",
    "    f.write(\"Confusion Matrix for Stacking Classifier (Balanced):\\n\")\n",
    "    f.write(f\"{confusion_matrix(y_test, y_pred_stacking)}\\n\\n\")\n",
    "    f.write(\"Classification Report for Stacking Classifier (Balanced):\\n\")\n",
    "    f.write(f\"{classification_report(y_test, y_pred_stacking)}\\n\")\n"
   ]
  },
  {
   "cell_type": "code",
   "execution_count": 66,
   "metadata": {},
   "outputs": [
    {
     "name": "stdout",
     "output_type": "stream",
     "text": [
      "\n",
      "Confusion Matrix for Stacking Classifier:\n",
      "[[8814 3365]\n",
      " [1911 1033]]\n",
      "\n",
      "Classification Report for Stacking Classifier:\n",
      "              precision    recall  f1-score   support\n",
      "\n",
      "           0       0.82      0.72      0.77     12179\n",
      "           1       0.23      0.35      0.28      2944\n",
      "\n",
      "    accuracy                           0.65     15123\n",
      "   macro avg       0.53      0.54      0.53     15123\n",
      "weighted avg       0.71      0.65      0.67     15123\n",
      "\n"
     ]
    }
   ],
   "source": [
    "# Displaying confusion matrix and classification report\n",
    "print(\"\\nConfusion Matrix for Stacking Classifier:\")\n",
    "print(confusion_matrix(y_test, y_pred_stacking))\n",
    "\n",
    "print(\"\\nClassification Report for Stacking Classifier:\")\n",
    "print(classification_report(y_test, y_pred_stacking))\n",
    "\n",
    "# Save the stacking classifier results (unbalanced) to a file\n",
    "with open('reports/stacking_classifier_unbalanced.txt', 'w') as f:\n",
    "    f.write(f\"Stacking Classifier Accuracy (Unbalanced): {accuracy_stacking * 100:.2f}%\\n\\n\")\n",
    "    f.write(\"Confusion Matrix for Stacking Classifier (Unbalanced):\\n\")\n",
    "    f.write(f\"{confusion_matrix(y_test, y_pred_stacking)}\\n\\n\")\n",
    "    f.write(\"Classification Report for Stacking Classifier (Unbalanced):\\n\")\n",
    "    f.write(f\"{classification_report(y_test, y_pred_stacking)}\\n\")\n"
   ]
  },
  {
   "cell_type": "markdown",
   "metadata": {},
   "source": [
    "# Final Model Evaluation and Comparison\n"
   ]
  },
  {
   "cell_type": "code",
   "execution_count": 67,
   "metadata": {},
   "outputs": [
    {
     "name": "stdout",
     "output_type": "stream",
     "text": [
      "Model Performance Summary:\n",
      "                            Model  Accuracy  ...  F1-Score  Recall_Class_1\n",
      "0             Logistic Regression    0.8021  ...      0.85            0.27\n",
      "1                   Random Forest    0.8197  ...      0.85            0.35\n",
      "2             Stacking Classifier    0.8100  ...      0.85            0.00\n",
      "3  Stacking Classifier (Balanced)    0.6511  ...      0.77            0.35\n",
      "\n",
      "[4 rows x 6 columns]\n"
     ]
    },
    {
     "data": {
      "image/png": "[encoded data removed]",
      "text/plain": [
       "<Figure size 1000x600 with 1 Axes>"
      ]
     },
     "metadata": {},
     "output_type": "display_data"
    },
    {
     "data": {
      "image/png": "[encoded data removed]",
      "text/plain": [
       "<Figure size 1000x600 with 1 Axes>"
      ]
     },
     "metadata": {},
     "output_type": "display_data"
    },
    {
     "data": {
      "image/png": "[encoded data removed]",
      "text/plain": [
       "<Figure size 1000x600 with 1 Axes>"
      ]
     },
     "metadata": {},
     "output_type": "display_data"
    },
    {
     "data": {
      "image/png": "[encoded data removed]",
      "text/plain": [
       "<Figure size 1000x600 with 1 Axes>"
      ]
     },
     "metadata": {},
     "output_type": "display_data"
    }
   ],
   "source": [
    "# Summarizing model results in a dictionary for comparison\n",
    "model_performance = {\n",
    "    'Model': ['Logistic Regression', 'Random Forest', 'Stacking Classifier', 'Stacking Classifier (Balanced)'],\n",
    "    'Accuracy': [0.8021, 0.8197, 0.8100, 0.6511],  \n",
    "    'Precision': [0.81, 0.82, 0.81, 0.82],         \n",
    "    'Recall': [0.89, 0.89, 0.89, 0.72],            \n",
    "    'F1-Score': [0.85, 0.85, 0.85, 0.77],          \n",
    "    'Recall_Class_1': [0.27, 0.35, 0.00, 0.35],    \n",
    "}\n",
    "\n",
    "performance_df = pd.DataFrame(model_performance)\n",
    "\n",
    "# Displaying the summarized performance\n",
    "print(\"Model Performance Summary:\")\n",
    "print(performance_df)\n",
    "\n",
    "# Visualizing the accuracy of different models\n",
    "\n",
    "plt.figure(figsize=(10, 6))\n",
    "plt.bar(performance_df['Model'], performance_df['Accuracy'], color='skyblue')\n",
    "plt.title('Model Accuracy Comparison')\n",
    "plt.xlabel('Model')\n",
    "plt.ylabel('Accuracy')\n",
    "plt.ylim(0.5, 1.0)\n",
    "plt.savefig('reports/Model Accuracy Comparison.png')\n",
    "plt.show()\n",
    "\n",
    "# Visualizing precision of different models\n",
    "plt.figure(figsize=(10, 6))\n",
    "plt.bar(performance_df['Model'], performance_df['Precision'], color='lightgreen')\n",
    "plt.title('Model Precision Comparison')\n",
    "plt.xlabel('Model')\n",
    "plt.ylabel('Precision')\n",
    "plt.ylim(0.5, 1.0)\n",
    "plt.savefig('reports/Model Precision Comparison.png')\n",
    "plt.show()\n",
    "\n",
    "# Visualizing recall of different models\n",
    "plt.figure(figsize=(10, 6))\n",
    "plt.bar(performance_df['Model'], performance_df['Recall'], color='orange')\n",
    "plt.title('Model Recall Comparison')\n",
    "plt.xlabel('Model')\n",
    "plt.ylabel('Recall')\n",
    "plt.ylim(0.5, 1.0)\n",
    "plt.savefig('reports/Model Recall Comparison.png')\n",
    "plt.show()\n",
    "\n",
    "# Visualizing F1-score of different models\n",
    "plt.figure(figsize=(10, 6))\n",
    "plt.bar(performance_df['Model'], performance_df['F1-Score'], color='salmon')\n",
    "plt.title('Model F1-Score Comparison')\n",
    "plt.xlabel('Model')\n",
    "plt.ylabel('F1-Score')\n",
    "plt.ylim(0.5, 1.0)\n",
    "plt.savefig('reports/Model F1-Score Comparison.png')\n",
    "plt.show()\n",
    "\n",
    "# Saving the model performance summary to a text file\n",
    "with open('reports/model_performance_summary.txt', 'w') as f:\n",
    "    f.write(\"Model Performance Summary:\\n\\n\")\n",
    "    f.write(performance_df.to_string(index=False))\n",
    "\n"
   ]
  },
  {
   "cell_type": "markdown",
   "metadata": {},
   "source": [
    "## Final Conclusion and Recommendations\n",
    "\n",
    "### Summary of Model Performance:\n",
    "After conducting multiple model evaluations and optimizations, the following insights have been gathered from the models:\n",
    "\n",
    "1. **Logistic Regression** performed well with an accuracy of 80.53%, and it demonstrated strong precision and recall for the majority class (class 0). However, it showed relatively low recall for class 1, which indicates that it struggled with identifying positive cases of failure transactions.\n",
    "\n",
    "2. **Random Forest** slightly outperformed Logistic Regression with an accuracy of 80.68%. This model showed consistent performance across precision, recall, and F1-Score, making it a reliable option for general predictions. However, similar to Logistic Regression, it struggled with class 1 recall.\n",
    "\n",
    "3. **Stacking Classifier** performed marginally better than the individual models, achieving the highest accuracy of 81.00%. Although its performance was impressive for class 0, it failed to recognize any instances of class 1, which limits its utility for detecting rare events (such as transaction failures).\n",
    "\n",
    "4. **Stacking Classifier (Balanced)** was introduced using SMOTE to balance the dataset. While this model significantly improved the recall for class 1 (from 0% to 35%), it came at the cost of overall accuracy and precision. This trade-off may be worth considering depending on the business need to prioritize failed transactions (class 1).\n",
    "\n",
    "## Recommendations:\n",
    "\n",
    "1. **Best Overall Model:**\n",
    "   - **Random Forest Model** appears to offer the best balance of performance across all metrics, with a high accuracy, precision, recall, and F1 score. It is recommended as the best overall model for predicting transaction outcomes, especially where balancing precision and recall for successful transactions is critical.\n",
    "\n",
    "2. **Focus on Class Events (Failed Transactions):**\n",
    "   - If the business goal is to focus on reducing transaction failures and improving recall for class 1, the **Stacking Classifier (Balanced)** model provides the best recall for class 1 (35%), though it sacrifices some accuracy. It is recommended to use this model when the focus shifts to minimizing transaction failures at any cost.\n",
    "\n",
    "3. **Future Improvements:**\n",
    "   - To further improve the model, additional technical strategies such as ensemble methods or cost-sensitive learning can be implemented in future work. This could help improve class 1 detection without significantly compromising class 0 performance.\n",
    "\n",
    "4. **Business Application:**\n",
    "   - **Random Forest** can be recommended to dynamically choose between models based on specific business objectives. For instance, the Random Forest model could be used for early transactions to maximize overall accuracy, while the Stacking Classifier (Balanced) could be applied during periods or regions with higher failure risks.\n",
    "\n",
    "5. **Further Steps:**\n",
    "   - Future work could involve hyperparameter tuning and exploring more advanced techniques like XGBoost or LightGBM to maximize performance. Additionally, monitoring model performance regularly and recalibrating based on changing transaction volumes and business goals is necessary to maintain model relevance.\n"
   ]
  },
  {
   "cell_type": "markdown",
   "metadata": {},
   "source": [
    "# Project Framework: CRISP-DM Methodology\n"
   ]
  },
  {
   "cell_type": "markdown",
   "metadata": {},
   "source": [
    "This project follows the CRISP-DM methodology, a structured approach for data mining projects that consists of six phases (Wirth & Hipp, 2000). The phases guide the end-to-end process, from business understanding to deployment, ensuring a systematic and well-documented approach.\n",
    "\n",
    "1. **Business Understanding**:  \n",
    "   The primary objective is to optimize credit card transaction routing by predicting the most suitable Payment Service Provider (PSP) to minimize transaction fees and reduce failures. The project’s success is evaluated by metrics such as accuracy, recall, and transaction success rates, emphasizing minimized transaction costs and failures.\n",
    "\n",
    "2. **Data Understanding**:  \n",
    "   The dataset consists of transaction data from DACH countries (Germany, Switzerland, Austria) and includes critical columns such as `amount`, `country`, `PSP`, and `success`. Initial data exploration focused on analyzing transaction distributions by PSP, identifying success rates, and calculating average transaction costs.\n",
    "\n",
    "3. **Data Preparation**:  \n",
    "   Data preprocessing included feature extraction, such as deriving `hour` and `day_of_week` from timestamps, encoding categorical variables, and balancing classes using Synthetic Minority Over-sampling Technique (SMOTE) to improve the prediction of rare events. Data cleaning steps addressed missing values and duplicates, ensuring quality input data.\n",
    "\n",
    "4. **Modeling**:  \n",
    "   Models used include Logistic Regression, Random Forest, and a Stacking Classifier. Hyperparameter tuning was performed using GridSearchCV and RandomizedSearchCV to optimize model performance. The models were evaluated based on accuracy, precision, recall, and F1-Score, aligning with business objectives.\n",
    "\n",
    "5. **Evaluation**:  \n",
    "   Model performance was compared across key metrics, with Random Forest and Stacking Classifiers exhibiting strong performance. An error analysis identified patterns in false positives and false negatives, which informed improvements in class 1 recall and overall model reliability.\n",
    "\n",
    "6. **Deployment**:  \n",
    "   A deployment proposal includes integrating the model into a business environment through an API or GUI for real-time predictions. To maintain performance, it is recommended that the model undergoes regular retraining and monitoring, ensuring adaptability to evolving transaction patterns.\n",
    "\n",
    "### References\n",
    "\n",
    "Wirth, R., & Hipp, J. (2000). CRISP-DM: Towards a Standard Process Model for Data Mining. In Proceedings of the 4th International Conference on the Practical Applications of Knowledge Discovery and Data Mining (pp. 29–39).\n"
   ]
  },
  {
   "cell_type": "markdown",
   "metadata": {},
   "source": []
  }
 ],
 "metadata": {
  "kernelspec": {
   "display_name": "base",
   "language": "python",
   "name": "python3"
  },
  "language_info": {
   "codemirror_mode": {
    "name": "ipython",
    "version": 3
   },
   "file_extension": ".py",
   "mimetype": "text/x-python",
   "name": "python",
   "nbconvert_exporter": "python",
   "pygments_lexer": "ipython3",
   "version": "3.11.7"
  }
 },
 "nbformat": 4,
 "nbformat_minor": 2
}
